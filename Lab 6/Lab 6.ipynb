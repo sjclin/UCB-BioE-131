{
 "cells": [
  {
   "cell_type": "markdown",
   "metadata": {},
   "source": [
    "The objective of this lab is to compare the alignment of the `mixed_reads` files with the human reference genome against that of the S. oneidensis reference genome. We will also generate a coverage plot based on the `SAM` output file generated using `Bowtie2`. `SAMtools` will be helpful for working with the `SAM` files.\n",
    "\n",
    "The terminal commands below copy the data files into the local `Lab 6` directory for convenient access.\n",
    "\n",
    "`[5450915@ip-172-30-0-105 Lab6_data]$ cp * ~/Lab\\ 6`\n",
    "\n",
    "`[5450915@ip-172-30-0-105 hg19]$ cp * ~/Lab\\ 6`\n",
    "\n",
    "`[5450915@ip-172-30-0-105 shewanella_oneidensis_mr-1]$ cp * ~/Lab\\ 6`"
   ]
  },
  {
   "cell_type": "markdown",
   "metadata": {},
   "source": [
    "## Alignment with human genome\n",
    "\n",
    "This `bowtie2` command runs the program for the `mixed_reads` input reads and against the `hg19` database. It outputs to `hg19_output.sam` with the unaligned reads written into `hg19_unaligned.fastq`. That is, the reads in `hg19_unaligned.fastq` do not align with the human genome.\n",
    "\n",
    "`[5450915@ip-172-30-0-105 hg19]$ bowtie2 -p 16 --very-fast --no-unal -x hg19 -U ../mixed_reads1.fastq,../mixed_reads2.fastq -S hg19_output.sam --un hg19_unaligned.fastq\n",
    "2570882 reads; of these:\n",
    "  2570882 (100.00%) were unpaired; of these:\n",
    "    2060197 (80.14%) aligned 0 times\n",
    "    468483 (18.22%) aligned exactly 1 time\n",
    "    42202 (1.64%) aligned >1 times\n",
    "19.86% overall alignment rate`\n",
    "\n",
    "The output shows that $19.86\\text{%}$ of the sequencing library came from contaminated human DNA."
   ]
  },
  {
   "cell_type": "markdown",
   "metadata": {},
   "source": [
    "## Alignment with S. oneidensis genome\n",
    "\n",
    "This `bowtie2` command runs the program for the `hg19_unaligned.fastq` filtered input reads and the `shewanella_oneidensis_mr-1` database. That is, we used pass the reads that do not align with the human genome into `bowtie2` as the new input. It outputs to `shewanella_oneidensis_mr-1_output.sam` with the unaligned reads written into `shewanella_oneidensis_mr-1_unaligned.fastq`. \n",
    "\n",
    "`[5450915@ip-172-30-0-105 shewanella_oneidensis_mr-1]$ bowtie2 -p 16 --very-fast --no-unal -x shewanella_oneidensis_mr-1 -U ../hg19/hg19_unaligned.fastq -S shewanella_oneidensis_mr-1_output.sam --un shewanella_oneidensis_mr-1_unaligned.fastq \n",
    "2060197 reads; of these:\n",
    "  2060197 (100.00%) were unpaired; of these:\n",
    "    733772 (35.62%) aligned 0 times\n",
    "    1238875 (60.13%) aligned exactly 1 time\n",
    "    87550 (4.25%) aligned >1 times\n",
    "64.38% overall alignment rate`\n",
    "\n",
    "The output shows that  $35.62\\text{%}$ of the filtered library did not align with the reference genome.\n",
    "\n",
    "Below is an identical `bowtie2` command with the exception of the `--very-fast` parameter being changed to the `--very-sensitive` parameter. The results are similar; however, the percentage of reads that did not align has decreased from $35.62\\text{%}$ to $35.37\\text{%}$, which is to be expected.\n",
    "\n",
    "`[5450915@ip-172-30-0-105 shewanella_oneidensis_mr-1]$ bowtie2 -p 16 --very-sensitive --no-unal -x shewanella_oneidensis_mr-1 -U ../hg19/hg19_unaligned.fastq -S shewanella_oneidensis_mr-1_output.sam --un shewanella_oneidensis_mr-1_unaligned.fastq\n",
    "2060197 reads; of these:\n",
    "  2060197 (100.00%) were unpaired; of these:\n",
    "    728613 (35.37%) aligned 0 times\n",
    "    1242169 (60.29%) aligned exactly 1 time\n",
    "    89415 (4.34%) aligned >1 times\n",
    "64.63% overall alignment rate`"
   ]
  },
  {
   "cell_type": "markdown",
   "metadata": {},
   "source": [
    "## Coverage plot"
   ]
  },
  {
   "attachments": {},
   "cell_type": "markdown",
   "metadata": {},
   "source": [
    "The following command uses `SAMtools` to generate a `.bam` file named `shewanella_oneidensis_mr-1_output.bam` from `shewanella_oneidensis_mr-1_output.sam`.\n",
    "\n",
    "`[5450915@ip-172-30-0-105 shewanella_oneidensis_mr-1]$ samtools view -b shewanella_oneidensis_mr-1_output.sam > shewanella_oneidensis_mr-1_output.bam`\n",
    "\n",
    "Next, we sort `shewanella_oneidensis_mr-1_output.bam` and output to `shewanella_oneidensis_mr-1_output_sorted.bam`.\n",
    "\n",
    "`[5450915@ip-172-30-0-105 shewanella_oneidensis_mr-1]$ samtools sort shewanella_oneidensis_mr-1_output.bam > shewanella_oneidensis_mr-1_output.sorted.bam`\n",
    "\n",
    "Next, we index `shewanella_oneidensis_mr-1_output.sorted.bam`.\n",
    "\n",
    "`[5450915@ip-172-30-0-105 shewanella_oneidensis_mr-1]$ samtools index shewanella_oneidensis_mr-1_output.sorted.bam`\n",
    "\n",
    "Finally, we generate a list of coordinates and the number of reads aligned at each position in `coverage.tab`.\n",
    "\n",
    "`[5450915@ip-172-30-0-105 shewanella_oneidensis_mr-1]$ samtools depth –a shewanella_oneidensis_mr-1_output,sorted.bam > coverage.tab`"
   ]
  },
  {
   "cell_type": "code",
   "execution_count": 1,
   "metadata": {},
   "outputs": [],
   "source": [
    "%matplotlib inline\n",
    "import numpy as np\n",
    "import matplotlib.pyplot as plt\n",
    "\n",
    "depths = []\n",
    "coverage_file = open(\"shewanella_oneidensis_mr-1/coverage.tab\", \"r\")\n",
    "for line in coverage_file:\n",
    "    entries = line.split()\n",
    "    depths.append(int(entries[2]))\n",
    "depths = np.asarray(depths)"
   ]
  },
  {
   "cell_type": "code",
   "execution_count": 2,
   "metadata": {},
   "outputs": [
    {
     "data": {
      "image/png": "[encoded data removed]",
      "text/plain": [
       "<Figure size 720x216 with 1 Axes>"
      ]
     },
     "metadata": {
      "needs_background": "light"
     },
     "output_type": "display_data"
    }
   ],
   "source": [
    "plt.rcParams['figure.figsize'] = 10, 3\n",
    "plt.xlabel(\"Position in Genome\")\n",
    "plt.ylabel(\"Depth of Coverage\")\n",
    "plt.scatter(range(len(depths)), depths, s=10, marker=\"s\")\n",
    "plt.show()"
   ]
  },
  {
   "cell_type": "code",
   "execution_count": 3,
   "metadata": {},
   "outputs": [
    {
     "data": {
      "text/plain": [
       "(0, 300)"
      ]
     },
     "execution_count": 3,
     "metadata": {},
     "output_type": "execute_result"
    },
    {
     "data": {
      "image/png": "[encoded data removed]",
      "text/plain": [
       "<Figure size 576x576 with 1 Axes>"
      ]
     },
     "metadata": {
      "needs_background": "light"
     },
     "output_type": "display_data"
    }
   ],
   "source": [
    "plt.rcParams['figure.figsize'] = 8, 8\n",
    "plt.xlabel(\"Depth of Coverage\")\n",
    "plt.ylabel(\"Count\")\n",
    "hist = plt.hist(depths, bins=100)\n",
    "plt.xlim(0, 300)"
   ]
  }
 ],
 "metadata": {
  "kernelspec": {
   "display_name": "Python 3",
   "language": "python",
   "name": "python3"
  },
  "language_info": {
   "codemirror_mode": {
    "name": "ipython",
    "version": 3
   },
   "file_extension": ".py",
   "mimetype": "text/x-python",
   "name": "python",
   "nbconvert_exporter": "python",
   "pygments_lexer": "ipython3",
   "version": "3.7.3"
  }
 },
 "nbformat": 4,
 "nbformat_minor": 2
}
